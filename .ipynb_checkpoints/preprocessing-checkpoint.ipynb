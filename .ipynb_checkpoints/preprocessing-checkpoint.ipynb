{
 "cells": [
  {
   "cell_type": "markdown",
   "metadata": {},
   "source": [
    "## Goal\n",
    "This notebook is to preprocess data before model building\n",
    "## Content\n",
    "1. File directories"
   ]
  },
  {
   "cell_type": "code",
   "execution_count": 1,
   "metadata": {},
   "outputs": [
    {
     "name": "stdout",
     "output_type": "stream",
     "text": [
      "5928-JB_NGS_ID.txt\t    fastp.json\t\t RNAseq_0514.txt\n",
      "7022-JB-samples001-095.txt  FastQC\t\t RNAseq_0602\n",
      "7022-JB-samples096-190.txt  featureCounts\t RNAseq_0602.txt\n",
      "7022-JB-samples191-285.txt  HTseqCount\t\t RNAseq_0608\n",
      "7022-JB-samples286-380.txt  JB-5928_ID_list.txt  RNAseq_0608.txt\n",
      "7022-JB-samples286-570.txt  local_ancestry\t RNAseq_0615\n",
      "7022-JB-samples381-475.txt  MultiQC\t\t RNAseq_0615.txt\n",
      "7022-JB-samples476-570.txt  obesity\t\t RNAseq_0621\n",
      "7022-JB-samples571-586.txt  PEER\t\t RNAseq_0621.txt\n",
      "ASHG_2021\t\t    pheno\t\t rna-seqc_test\n",
      "batch\t\t\t    pheno0120\t\t RSEM\n",
      "covid19\t\t\t    RNAseq_0506\t\t STAR_hg38\n",
      "covid19_old\t\t    RNAseq_0506.txt\t STAR_pause_1104.txt\n",
      "DESeq2\t\t\t    RNAseq_0512\t\t test.txt\n",
      "fastp\t\t\t    RNAseq_0512.txt\n",
      "fastp.html\t\t    RNAseq_0514\n"
     ]
    }
   ],
   "source": [
    "!ls /vgipiper02/CCHC_seq/covid19_RNAseq"
   ]
  },
  {
   "cell_type": "code",
   "execution_count": 2,
   "metadata": {},
   "outputs": [
    {
     "name": "stdout",
     "output_type": "stream",
     "text": [
      "'20201019_CCHC_lipidomics_final dataset_from_HH.xlsx'\n",
      " 202103_sent_RNA_list\n",
      "'20210708_Doug_RNA_request_CCHC_03152021_CRU_only_fixed_ML (1).xlsx'\n",
      " 20210708_HH_VANTAGE_RNAseq_WZ_updated.xlsx\n",
      " 20210708_HH_VANTAGE_RNAseq.xlsx\n",
      " 20210708_WZ_RNAseq_list_from_data_files.txt\n",
      " nor_couut.txt\n",
      " README.txt\n",
      " RNAseq_5928_7022.txt\n"
     ]
    }
   ],
   "source": [
    "!ls /data100t1/home/wanying/CCHC_multiomics/docs"
   ]
  },
  {
   "cell_type": "code",
   "execution_count": 11,
   "metadata": {},
   "outputs": [],
   "source": [
    "# Create a list of RNAseq samples with project numbers\n",
    "!cat /vgipiper02/CCHC_seq/covid19_RNAseq/7022-JB-samples*.txt > /data100t1/home/wanying/CCHC_multiomics/docs/RNAseq_5928_7022.txt"
   ]
  },
  {
   "cell_type": "code",
   "execution_count": null,
   "metadata": {},
   "outputs": [
    {
     "name": "stdout",
     "output_type": "stream",
     "text": [
      "All RNAseq samples: (805, 2)\n"
     ]
    }
   ],
   "source": [
    "'''\n",
    "df_5928 = pd.read_csv('/vgipiper02/CCHC_seq/covid19_RNAseq/5928-JB_NGS_ID.txt', sep='\\t')\n",
    "df_5928.columns = ['sampleID', 'LABID']\n",
    "df_7022 = pd.read_csv('/data100t1/home/wanying/CCHC_multiomics/docs/RNAseq_5928_7022.txt', sep=' ', header=None)\n",
    "df_7022.columns = ['LABID', 'sampleID']\n",
    "# display(df_5928.head())\n",
    "# display(df_7022.head())\n",
    "df_merged = pd.concat([df_5928, df_7022])\n",
    "# print(df_merged.shape)\n",
    "df_merged.drop_duplicates(subset='LABID', inplace=True)\n",
    "print('All RNAseq samples:', df_merged.shape)\n",
    "\n",
    "df_pheno = pd.read_csv('/data100t1/share/CCHC/phenotypes/1021/cchc_phenotypes_1021.txt',\n",
    "                       sep='|', dtype='str')[['RRID', 'LABID', 'GENDER']]\n",
    "df_merged = df_merged.merge(df_pheno, on='LABID') # tehre are 2 sample not in phenotyep file, might be recently recruited\n",
    "df_merged = df_merged[['RRID', 'LABID', 'sampleID','GENDER']]\n",
    "\n",
    "df_covid = pd.read_csv('/data100t1/home/wanying/CCHC/doc/RNAseq/202201_RNAseq_JB7022_summary.txt', sep='\\t')\n",
    "df_merged = df_covid[['LABID', 'VISIT_DATE', 'COVID']].merge(df_merged, on='LABID')\n",
    "df_merged = df_merged[['RRID', 'LABID', 'sampleID', 'VISIT_DATE', 'GENDER', 'COVID']].rename(columns={'sampleID':'RNAseqID'})\n",
    "df_merged.to_csv('/data100t1/home/wanying/CCHC_multiomics/docs/RNAseq_5928_7022.txt', sep='\\t', index=False)\n",
    "print('Done!')\n",
    "'''"
   ]
  },
  {
   "cell_type": "code",
   "execution_count": 56,
   "metadata": {},
   "outputs": [
    {
     "data": {
      "text/html": [
       "<div>\n",
       "<style scoped>\n",
       "    .dataframe tbody tr th:only-of-type {\n",
       "        vertical-align: middle;\n",
       "    }\n",
       "\n",
       "    .dataframe tbody tr th {\n",
       "        vertical-align: top;\n",
       "    }\n",
       "\n",
       "    .dataframe thead th {\n",
       "        text-align: right;\n",
       "    }\n",
       "</style>\n",
       "<table border=\"1\" class=\"dataframe\">\n",
       "  <thead>\n",
       "    <tr style=\"text-align: right;\">\n",
       "      <th></th>\n",
       "      <th>RRID</th>\n",
       "      <th>LABID</th>\n",
       "      <th>RNAseqID</th>\n",
       "      <th>VISIT_DATE</th>\n",
       "      <th>GENDER</th>\n",
       "      <th>COVID</th>\n",
       "    </tr>\n",
       "  </thead>\n",
       "  <tbody>\n",
       "    <tr>\n",
       "      <th>63</th>\n",
       "      <td>BD1965</td>\n",
       "      <td>CV0001</td>\n",
       "      <td>5928-JB-39</td>\n",
       "      <td>20200626</td>\n",
       "      <td>2.0</td>\n",
       "      <td>1</td>\n",
       "    </tr>\n",
       "    <tr>\n",
       "      <th>64</th>\n",
       "      <td>BD2431</td>\n",
       "      <td>CV0012</td>\n",
       "      <td>5928-JB-54</td>\n",
       "      <td>20200630</td>\n",
       "      <td>2.0</td>\n",
       "      <td>1</td>\n",
       "    </tr>\n",
       "    <tr>\n",
       "      <th>65</th>\n",
       "      <td>BD3637</td>\n",
       "      <td>CV0035</td>\n",
       "      <td>5928-JB-81</td>\n",
       "      <td>20200709</td>\n",
       "      <td>1.0</td>\n",
       "      <td>1</td>\n",
       "    </tr>\n",
       "    <tr>\n",
       "      <th>66</th>\n",
       "      <td>BD2743</td>\n",
       "      <td>CV0059</td>\n",
       "      <td>5928-JB-58</td>\n",
       "      <td>20200713</td>\n",
       "      <td>2.0</td>\n",
       "      <td>1</td>\n",
       "    </tr>\n",
       "    <tr>\n",
       "      <th>67</th>\n",
       "      <td>BD2691</td>\n",
       "      <td>CV0014</td>\n",
       "      <td>5928-JB-56</td>\n",
       "      <td>20200715</td>\n",
       "      <td>2.0</td>\n",
       "      <td>1</td>\n",
       "    </tr>\n",
       "    <tr>\n",
       "      <th>...</th>\n",
       "      <td>...</td>\n",
       "      <td>...</td>\n",
       "      <td>...</td>\n",
       "      <td>...</td>\n",
       "      <td>...</td>\n",
       "      <td>...</td>\n",
       "    </tr>\n",
       "    <tr>\n",
       "      <th>793</th>\n",
       "      <td>CM0021</td>\n",
       "      <td>CV0140</td>\n",
       "      <td>7022-JB-403</td>\n",
       "      <td>NaN</td>\n",
       "      <td>2.0</td>\n",
       "      <td>1</td>\n",
       "    </tr>\n",
       "    <tr>\n",
       "      <th>794</th>\n",
       "      <td>CM0022</td>\n",
       "      <td>CV0141</td>\n",
       "      <td>7022-JB-404</td>\n",
       "      <td>NaN</td>\n",
       "      <td>1.0</td>\n",
       "      <td>1</td>\n",
       "    </tr>\n",
       "    <tr>\n",
       "      <th>795</th>\n",
       "      <td>CM0019</td>\n",
       "      <td>CV0142</td>\n",
       "      <td>7022-JB-405</td>\n",
       "      <td>NaN</td>\n",
       "      <td>1.0</td>\n",
       "      <td>1</td>\n",
       "    </tr>\n",
       "    <tr>\n",
       "      <th>796</th>\n",
       "      <td>CM0023</td>\n",
       "      <td>CV0143</td>\n",
       "      <td>7022-JB-406</td>\n",
       "      <td>NaN</td>\n",
       "      <td>2.0</td>\n",
       "      <td>1</td>\n",
       "    </tr>\n",
       "    <tr>\n",
       "      <th>797</th>\n",
       "      <td>HD0522</td>\n",
       "      <td>HA0192</td>\n",
       "      <td>7022-JB-169</td>\n",
       "      <td>NaN</td>\n",
       "      <td>2.0</td>\n",
       "      <td>1</td>\n",
       "    </tr>\n",
       "  </tbody>\n",
       "</table>\n",
       "<p>323 rows × 6 columns</p>\n",
       "</div>"
      ],
      "text/plain": [
       "       RRID   LABID     RNAseqID VISIT_DATE GENDER  COVID\n",
       "63   BD1965  CV0001   5928-JB-39   20200626    2.0      1\n",
       "64   BD2431  CV0012   5928-JB-54   20200630    2.0      1\n",
       "65   BD3637  CV0035   5928-JB-81   20200709    1.0      1\n",
       "66   BD2743  CV0059   5928-JB-58   20200713    2.0      1\n",
       "67   BD2691  CV0014   5928-JB-56   20200715    2.0      1\n",
       "..      ...     ...          ...        ...    ...    ...\n",
       "793  CM0021  CV0140  7022-JB-403        NaN    2.0      1\n",
       "794  CM0022  CV0141  7022-JB-404        NaN    1.0      1\n",
       "795  CM0019  CV0142  7022-JB-405        NaN    1.0      1\n",
       "796  CM0023  CV0143  7022-JB-406        NaN    2.0      1\n",
       "797  HD0522  HA0192  7022-JB-169        NaN    2.0      1\n",
       "\n",
       "[323 rows x 6 columns]"
      ]
     },
     "execution_count": 56,
     "metadata": {},
     "output_type": "execute_result"
    }
   ],
   "source": [
    "df_merged[(df_merged['COVID']==1)]"
   ]
  },
  {
   "cell_type": "code",
   "execution_count": 91,
   "metadata": {},
   "outputs": [
    {
     "data": {
      "text/html": [
       "<div>\n",
       "<style scoped>\n",
       "    .dataframe tbody tr th:only-of-type {\n",
       "        vertical-align: middle;\n",
       "    }\n",
       "\n",
       "    .dataframe tbody tr th {\n",
       "        vertical-align: top;\n",
       "    }\n",
       "\n",
       "    .dataframe thead th {\n",
       "        text-align: right;\n",
       "    }\n",
       "</style>\n",
       "<table border=\"1\" class=\"dataframe\">\n",
       "  <thead>\n",
       "    <tr style=\"text-align: right;\">\n",
       "      <th></th>\n",
       "      <th>RRID</th>\n",
       "      <th>LABID</th>\n",
       "      <th>RNAseqID</th>\n",
       "      <th>VISIT_DATE</th>\n",
       "      <th>GENDER</th>\n",
       "      <th>COVID</th>\n",
       "    </tr>\n",
       "  </thead>\n",
       "  <tbody>\n",
       "  </tbody>\n",
       "</table>\n",
       "</div>"
      ],
      "text/plain": [
       "Empty DataFrame\n",
       "Columns: [RRID, LABID, RNAseqID, VISIT_DATE, GENDER, COVID]\n",
       "Index: []"
      ]
     },
     "execution_count": 91,
     "metadata": {},
     "output_type": "execute_result"
    }
   ],
   "source": [
    "df_merged[df_merged['LABID']=='5Y0230']"
   ]
  },
  {
   "cell_type": "code",
   "execution_count": 84,
   "metadata": {},
   "outputs": [
    {
     "name": "stdout",
     "output_type": "stream",
     "text": [
      "844 /data100t1/home/wanying/CCHC_multiomics/docs/202103_sent_RNA_list\n"
     ]
    }
   ],
   "source": [
    "!wc -l /data100t1/home/wanying/CCHC_multiomics/docs/202103_sent_RNA_list"
   ]
  },
  {
   "cell_type": "code",
   "execution_count": 85,
   "metadata": {},
   "outputs": [
    {
     "name": "stdout",
     "output_type": "stream",
     "text": [
      "-rw-r----- 1 wanying piperlab 19K Apr  1  2021 /data100t1/home/wanying/CCHC_multiomics/docs/202103_sent_RNA_list\n"
     ]
    }
   ],
   "source": [
    "!ls -lht /data100t1/home/wanying/CCHC_multiomics/docs/202103_sent_RNA_list"
   ]
  },
  {
   "cell_type": "code",
   "execution_count": 95,
   "metadata": {},
   "outputs": [
    {
     "name": "stdout",
     "output_type": "stream",
     "text": [
      "covid_info_mostly_7022JB.txt\n",
      "IDs_genotyped_all.txt\n",
      "missing_IDs.txt\n",
      "RNAseq_5928JB_files.md\n",
      "RNAseq_5928JB_individual_IDs.txt\n",
      "RNAseq_5928JB_normalized_expressions_of_selected_individuals.txt\n",
      "RNAseq_5928JB_selected_pheno_with_PCs.txt\n",
      "RNAseq_5928JB_selected_pheno_with_PEER_factors.txt\n",
      "RNAseq_5928JB_valid_RRID_LABID_genotypeID_mapping.txt\n",
      "RNAseq_7022JB_valid_RRID_LABID_genotypeID_mapping.txt\n"
     ]
    }
   ],
   "source": [
    "!ls /data100t1/home/wanying/CCHC/doc/cleaned_data"
   ]
  },
  {
   "cell_type": "code",
   "execution_count": 97,
   "metadata": {},
   "outputs": [
    {
     "name": "stdout",
     "output_type": "stream",
     "text": [
      "599 /data100t1/home/wanying/CCHC/doc/cleaned_data/RNAseq_5928JB_valid_RRID_LABID_genotypeID_mapping.txt\n"
     ]
    }
   ],
   "source": [
    "!wc -l /data100t1/home/wanying/CCHC/doc/cleaned_data/RNAseq_5928JB_valid_RRID_LABID_genotypeID_mapping.txt"
   ]
  },
  {
   "cell_type": "code",
   "execution_count": 102,
   "metadata": {},
   "outputs": [],
   "source": [
    "!mkdir data\n"
   ]
  },
  {
   "cell_type": "code",
   "execution_count": null,
   "metadata": {},
   "outputs": [],
   "source": [
    "!cp /data100t1/home/wanying/CCHC/doc/cleaned_data/RNAseq_*_valid_RRID_LABID_genotypeID_mapping.txt /belowshare/vumcshare/data100t1/home/wanying/CCHC_multiomics/code/hl_predixcan/"
   ]
  }
 ],
 "metadata": {
  "kernelspec": {
   "display_name": "Python 3",
   "language": "python",
   "name": "python3"
  },
  "language_info": {
   "codemirror_mode": {
    "name": "ipython",
    "version": 3
   },
   "file_extension": ".py",
   "mimetype": "text/x-python",
   "name": "python",
   "nbconvert_exporter": "python",
   "pygments_lexer": "ipython3",
   "version": "3.8.12"
  }
 },
 "nbformat": 4,
 "nbformat_minor": 4
}
